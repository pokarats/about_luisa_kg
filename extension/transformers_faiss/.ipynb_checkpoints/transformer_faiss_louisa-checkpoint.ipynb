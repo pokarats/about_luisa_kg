{
 "cells": [
  {
   "cell_type": "markdown",
   "metadata": {
    "id": "bJLQoimyVyQ8"
   },
   "source": [
    "### Uncomment and run the following cells if you work on Google Colab :) Don't forget to change your runtime type to GPU!"
   ]
  },
  {
   "cell_type": "code",
   "execution_count": 77,
   "metadata": {
    "colab": {
     "base_uri": "https://localhost:8080/"
    },
    "id": "rVV81xc3VyQ9",
    "outputId": "3b0f92e0-209e-440a-e20e-14d60cb12528"
   },
   "outputs": [
    {
     "name": "stdout",
     "output_type": "stream",
     "text": [
      "fatal: destination path 'vector_engine' already exists and is not an empty directory.\n"
     ]
    }
   ],
   "source": [
    "!git clone https://github.com/kstathou/vector_engine"
   ]
  },
  {
   "cell_type": "code",
   "execution_count": 78,
   "metadata": {
    "colab": {
     "base_uri": "https://localhost:8080/"
    },
    "id": "C0lSFLw3VyRG",
    "outputId": "a0689ce9-4515-44e6-b3fa-973e43895251"
   },
   "outputs": [
    {
     "name": "stdout",
     "output_type": "stream",
     "text": [
      "/content/vector_engine/vector_engine\n"
     ]
    }
   ],
   "source": [
    "cd vector_engine"
   ]
  },
  {
   "cell_type": "code",
   "execution_count": 79,
   "metadata": {
    "colab": {
     "base_uri": "https://localhost:8080/"
    },
    "id": "5sOhWL6UVyRQ",
    "outputId": "cbf1f832-4bf7-463a-8ded-d4257066c0f0"
   },
   "outputs": [
    {
     "name": "stdout",
     "output_type": "stream",
     "text": [
      "\u001b[31mERROR: Could not open requirements file: [Errno 2] No such file or directory: 'requirements.txt'\u001b[0m\n"
     ]
    }
   ],
   "source": [
    "pip install -r requirements.txt"
   ]
  },
  {
   "cell_type": "markdown",
   "metadata": {
    "id": "vbnscDwgVyRW"
   },
   "source": [
    "### Let's begin!"
   ]
  },
  {
   "cell_type": "code",
   "execution_count": 80,
   "metadata": {
    "colab": {
     "base_uri": "https://localhost:8080/"
    },
    "id": "v7ftrzzmVyRX",
    "outputId": "c3d8cc7e-8a05-4533-b579-5be2d52e7d9a"
   },
   "outputs": [
    {
     "name": "stdout",
     "output_type": "stream",
     "text": [
      "The autoreload extension is already loaded. To reload it, use:\n",
      "  %reload_ext autoreload\n"
     ]
    }
   ],
   "source": [
    "%load_ext autoreload"
   ]
  },
  {
   "cell_type": "code",
   "execution_count": 81,
   "metadata": {
    "id": "fU2i4vlCVyRc"
   },
   "outputs": [],
   "source": [
    "%autoreload 2\n",
    "# Used to import data from local.\n",
    "import pandas as pd\n",
    "\n",
    "# Used to create the dense document vectors.\n",
    "import torch\n",
    "from sentence_transformers import SentenceTransformer\n",
    "\n",
    "# Used to create and store the Faiss index.\n",
    "import faiss\n",
    "import numpy as np\n",
    "import pickle\n",
    "from pathlib import Path\n",
    "\n",
    "# Used to do vector searches and display the results.\n",
    "from vector_engine.utils import vector_search, id2details"
   ]
  },
  {
   "cell_type": "markdown",
   "metadata": {
    "id": "Kz5YBwU5VyRi"
   },
   "source": [
    "Stored and processed data in s3"
   ]
  },
  {
   "cell_type": "markdown",
   "metadata": {
    "id": "VyRG1wZLVyRw"
   },
   "source": [
    "The [Sentence Transformers library](https://github.com/UKPLab/sentence-transformers) offers pretrained transformers that produce SOTA sentence embeddings. Checkout this [spreadsheet](https://docs.google.com/spreadsheets/d/14QplCdTCDwEmTqrn1LH4yrbKvdogK4oQvYO1K1aPR5M/) with all the available models.\n",
    "\n",
    "In this tutorial, we will use the `distilbert-base-nli-stsb-mean-tokens` model which has the best performance on Semantic Textual Similarity tasks among the DistilBERT versions. Moreover, although it's slightly worse than BERT, it is quite faster thanks to having a smaller size.\n",
    "\n",
    "I use the same model in [Orion's semantic search engine](https://www.orion-search.org/)!"
   ]
  },
  {
   "cell_type": "code",
   "execution_count": 82,
   "metadata": {
    "colab": {
     "base_uri": "https://localhost:8080/"
    },
    "id": "PjF6CrwUVyRx",
    "outputId": "c8566f65-53e2-41b4-be32-e7dbeab0acde"
   },
   "outputs": [
    {
     "name": "stdout",
     "output_type": "stream",
     "text": [
      "cuda:0\n"
     ]
    }
   ],
   "source": [
    "# Instantiate the sentence-level DistilBERT\n",
    "model = SentenceTransformer('distilbert-base-nli-stsb-mean-tokens')\n",
    "# Check if GPU is available and use it\n",
    "if torch.cuda.is_available():\n",
    "    model = model.to(torch.device(\"cuda\"))\n",
    "print(model.device)"
   ]
  },
  {
   "cell_type": "code",
   "execution_count": 83,
   "metadata": {
    "colab": {
     "base_uri": "https://localhost:8080/"
    },
    "id": "NLYsHfX6hu7n",
    "outputId": "ab179e94-d002-48c9-878d-0880abfce188"
   },
   "outputs": [
    {
     "name": "stdout",
     "output_type": "stream",
     "text": [
      "Loaded all files, num total lines: 364\n"
     ]
    }
   ],
   "source": [
    "#load the corpus, corpus format: list of paragraphs\n",
    "\n",
    "with open(\"/content/corpus_gpt2_final.txt\") as fin:\n",
    "  corpus = [line.rstrip('\\n') for line in fin]\n",
    "print('Loaded all files, num total lines:', len(corpus))\n"
   ]
  },
  {
   "cell_type": "code",
   "execution_count": 84,
   "metadata": {
    "id": "wYRk9p0_4wca"
   },
   "outputs": [],
   "source": [
    "ids = np.array([index for index, value in enumerate(corpus)])"
   ]
  },
  {
   "cell_type": "code",
   "execution_count": 86,
   "metadata": {
    "colab": {
     "base_uri": "https://localhost:8080/"
    },
    "id": "n24b_IZ_49-X",
    "outputId": "a9892547-2ff5-4584-fc75-b4d56c842fe5"
   },
   "outputs": [
    {
     "data": {
      "text/plain": [
       "364"
      ]
     },
     "execution_count": 86,
     "metadata": {},
     "output_type": "execute_result"
    }
   ],
   "source": [
    "len(ids)"
   ]
  },
  {
   "cell_type": "code",
   "execution_count": 99,
   "metadata": {
    "colab": {
     "base_uri": "https://localhost:8080/",
     "height": 49,
     "referenced_widgets": [
      "e752e546f38c494592bc2495c34926e8",
      "8da855cc6f1c4797bcf3138c2a30fcbd",
      "87326003c94f4d4897c085a65e164993",
      "da520d526e0b4cd1af45c50c026c66ab",
      "82565c64de21447ba672675832e2cbd8",
      "cd34e0ef3e9c4f43bc04d57307acd42b",
      "39d5ca7d0ced41e6901086da4d8a1887",
      "caf81a4addc74be9a8ebbac6cc20de4e",
      "8a9fb66490f4475ba4368460f93f43bc",
      "d093a75cdb644a448123c5eddae833b5",
      "88b0b7336ca44041b3930e6df6f549e4"
     ]
    },
    "id": "Y_GS0_CWVyR1",
    "outputId": "ab50c592-e8d3-4936-99a7-974ecdea1e0a"
   },
   "outputs": [
    {
     "data": {
      "application/vnd.jupyter.widget-view+json": {
       "model_id": "e752e546f38c494592bc2495c34926e8",
       "version_major": 2,
       "version_minor": 0
      },
      "text/plain": [
       "Batches:   0%|          | 0/12 [00:00<?, ?it/s]"
      ]
     },
     "metadata": {},
     "output_type": "display_data"
    }
   ],
   "source": [
    "# Convert abstract to vectors\n",
    "embeddings = model.encode(corpus, show_progress_bar=True)"
   ]
  },
  {
   "cell_type": "code",
   "execution_count": 88,
   "metadata": {
    "colab": {
     "base_uri": "https://localhost:8080/"
    },
    "id": "gE7w-RJbVyR6",
    "outputId": "20a4a0a5-d1e2-4f26-fb85-20ffa06dc51e"
   },
   "outputs": [
    {
     "name": "stdout",
     "output_type": "stream",
     "text": [
      "Shape of the vectorised abstract: (768,)\n"
     ]
    }
   ],
   "source": [
    "print(f'Shape of the vectorised abstract: {embeddings[0].shape}')"
   ]
  },
  {
   "cell_type": "markdown",
   "metadata": {
    "id": "YGV4Je1EVyR_"
   },
   "source": [
    "## Vector similarity search with Faiss\n",
    "[Faiss](https://github.com/facebookresearch/faiss) is a library for efficient similarity search and clustering of dense vectors. It contains algorithms that search in sets of vectors of any size, even ones that do not fit in RAM. \n",
    "    \n",
    "Faiss is built around the `Index` object which contains, and sometimes preprocesses, the searchable vectors. Faiss has a large collection of [indexes](https://github.com/facebookresearch/faiss/wiki/Faiss-indexes). You can even create [composite indexes](https://github.com/facebookresearch/faiss/wiki/Faiss-indexes-(composite)). Faiss handles collections of vectors of a fixed dimensionality d, typically a few 10s to 100s.\n",
    "\n",
    "**Note**: Faiss uses only 32-bit floating point matrices. This means that you will have to change the data type of the input before building the index.\n",
    "\n",
    "To learn more about Faiss, you can read their paper on [arXiv](https://arxiv.org/abs/1702.08734).\n",
    "\n",
    "Here, we will the `IndexFlatL2` index:\n",
    "- It's a simple index that performs a brute-force L2 distance search\n",
    "- It scales linearly. It will work fine with our data but you might want to try [faster indexes](https://github.com/facebookresearch/faiss/wiki/Faster-search) if you work will millions of vectors.\n",
    "\n",
    "To create an index with the `misinformation` abstract vectors, we will:\n",
    "1. Change the data type of the abstract vectors to float32.\n",
    "2. Build an index and pass it the dimension of the vectors it will operate on.\n",
    "3. Pass the index to IndexIDMap, an object that enables us to provide a custom list of IDs for the indexed vectors.\n",
    "4. Add the abstract vectors and their ID mapping to the index. In our case, we will map vectors to their paper IDs from MAG."
   ]
  },
  {
   "cell_type": "code",
   "execution_count": 89,
   "metadata": {
    "colab": {
     "base_uri": "https://localhost:8080/"
    },
    "id": "8kkUDtwHVyR_",
    "outputId": "f8632fa6-b0d4-4b8d-ebcf-afed51d0e5dd"
   },
   "outputs": [
    {
     "name": "stdout",
     "output_type": "stream",
     "text": [
      "Number of vectors in the Faiss index: 364\n"
     ]
    }
   ],
   "source": [
    "# Step 1: Change data type\n",
    "embeddings = np.array([embedding for embedding in embeddings]).astype(\"float32\")\n",
    "\n",
    "# Step 2: Instantiate the index\n",
    "index = faiss.IndexFlatL2(embeddings.shape[1])\n",
    "\n",
    "# Step 3: Pass the index to IndexIDMap\n",
    "index = faiss.IndexIDMap(index)\n",
    "\n",
    "# Step 4: Add vectors and their IDs\n",
    "index.add_with_ids(embeddings, ids)\n",
    "\n",
    "print(f\"Number of vectors in the Faiss index: {index.ntotal}\")"
   ]
  },
  {
   "cell_type": "markdown",
   "metadata": {
    "id": "yt1z-433VySE"
   },
   "source": [
    "### Searching the index\n",
    "The index we built will perform a k-nearest-neighbour search. We have to provide the number of neighbours to be returned. \n",
    "\n",
    "Let's query the index with an abstract from our dataset and retrieve the 10 most relevant documents. **The first one must be our query!**\n"
   ]
  },
  {
   "cell_type": "code",
   "execution_count": 102,
   "metadata": {
    "colab": {
     "base_uri": "https://localhost:8080/",
     "height": 53
    },
    "id": "eEeJt7lYVySN",
    "outputId": "ab3652dc-ceb2-4478-d820-01f416ce6be3"
   },
   "outputs": [
    {
     "data": {
      "application/vnd.google.colaboratory.intrinsic+json": {
       "type": "string"
      },
      "text/plain": [
       "'I need a possibility to print ( Amine offered the possibility to print at his office) junior needs to print as well but just 4A format.'"
      ]
     },
     "execution_count": 102,
     "metadata": {},
     "output_type": "execute_result"
    }
   ],
   "source": [
    "# Paper abstract\n",
    "corpus[1]"
   ]
  },
  {
   "cell_type": "code",
   "execution_count": 91,
   "metadata": {
    "colab": {
     "base_uri": "https://localhost:8080/"
    },
    "id": "BSuRcH85VySQ",
    "outputId": "7348dbd1-11ee-41be-946e-b48fc47bbb02"
   },
   "outputs": [
    {
     "name": "stdout",
     "output_type": "stream",
     "text": [
      "L2 distance: [0.0, 182.37698364257812, 189.46029663085938, 189.4813690185547, 190.33587646484375, 190.70831298828125, 195.72972106933594, 197.02232360839844, 198.30970764160156, 199.48648071289062]\n",
      "\n",
      "MAG paper IDs: [1, 355, 82, 83, 346, 106, 292, 81, 48, 156]\n"
     ]
    }
   ],
   "source": [
    "# Retrieve the 10 nearest neighbours\n",
    "D, I = index.search(np.array([embeddings[1]]), k=10)\n",
    "print(f'L2 distance: {D.flatten().tolist()}\\n\\nMAG paper IDs: {I.flatten().tolist()}')"
   ]
  },
  {
   "cell_type": "code",
   "execution_count": 92,
   "metadata": {
    "colab": {
     "base_uri": "https://localhost:8080/"
    },
    "id": "TCRsL2hJ66ih",
    "outputId": "29ceb710-efb8-4d3d-edb0-8ca14de8e6ed"
   },
   "outputs": [
    {
     "data": {
      "text/plain": [
       "['I need a possibility to print ( Amine offered the possibility to print at his office) junior needs to print as well but just 4A format.',\n",
       " 'In Not Lost in You, how did you choose the special pattern clothes for those moving bodies to wear?Since there is a performative act in the video series not lost in you and one person acts with the avatar, but I consider the basic feeling and question of the work to be something general that everyone knows, I also wanted to abstract and generalize the human body from the person acting in the video, to achieve this I chose the ornamental Nylon fabrics.',\n",
       " \"I will basically focused on the way of production of Bernd an Hilla Becher,then how they teach, how the 'duesseldorf school' came up, what kind of production do we see and how do they work and how they find their inspiration. After that i will talk about how my educational way was, what Gursky taught in his class and what i learn from him and how we see photography nowadays, therefore i would name Jan Dibbets. i know he is from Amsterdam but he taught in Duesseldorf as well and did this amazing show of photography in Paris, pandoras box, i would bring the catalogue, and talk about borders of photography, just short but i think this is super important. I will show some pieces to make a little bit clearer what i am doing, the way of thinking behind and the concept.\",\n",
       " \"I will talk about how to find ideas and inspiration. i will talk about a very recent project what will come up in May, i think that is the best way, to break the borders, something not ready, so they can ask and see what it is really about. therefore as well i would bring research material or include that in my digital portfolio as you like. for me it is important that the students always can ask question or tell what they see or what they don't like for example\",\n",
       " 'Can you first tell me how you chose to become a photographer and what led you to working with Professor Andreas Gursky?I didn’t choose to become a photographer, I am an artist. But of course for me photography developed into the main medium with which I transform content into something visualized. At Kunstakademie Düsseldorf, he teaches what is called an \"open class\" (Freie Kunst), which is not explicitly a photography class. The focus in Gursky’s teaching was always about having a strong connection between content and visual quality.',\n",
       " 'Because of a paper about the e-dermins that perceives touch and pain I am thinking about a new piece, a room sensing pain. I would love to line a small room. It would be great to explain my project a bit more and to talk and learn about your fantastic researches. For that my question would be if you could support my project in terms of information. I am wondering if there is a possibility to get the material. ',\n",
       " \"The coloristic contrasts and shape in her work accents this. Although the use of today's digital techniques as defined by Ebner, could be understood as a confrontation with the ubiquity of the photographic. Moreover, Clement can be associated with a further photographic tradition that Ebner has not mentioned in the conversation, namely the conceptual art of the 1960s and 1970s that began the inclusion of photography in the history of art. That Louisa Clement appeals to the conceptual art, is especially clear regarding her work in completed series.\",\n",
       " 'A small group is good to talk about things and it is easier for them to ask questions i guess.My plan would be to first visit the exhibition and tell a little bit about the Becher school, from the beginning to now, will be a little history but i think that is important to know and to understand the development of the Becher school and the next generation which I am a part of.',\n",
       " 'And the last series of photographs are based on an essay of Heinrich von Kleist about marionettes. I made this series quite connected to my series called avatars and the series you saw at gladstone. I show them at the moment at the wallraf richartz museum in cologne. from that series i am developing my next sculptures.',\n",
       " 'I build a space like we have in the real world because I wanted to have this border between digital and real, behind the door of the room you can see just white like, that is because I cannot define the virtual and the digital space right now, we have other rules in the virtual space, in terms of architecture every role is not valid, statics, weight and material is not ruled anymore, body dimension as well. Time in terms of shifting and also aging is not valid, so where is the frame in there or do we need a frame or not?']"
      ]
     },
     "execution_count": 92,
     "metadata": {},
     "output_type": "execute_result"
    }
   ],
   "source": [
    "[corpus[idx] for idx in I[0]]"
   ]
  },
  {
   "cell_type": "code",
   "execution_count": 93,
   "metadata": {
    "colab": {
     "base_uri": "https://localhost:8080/",
     "height": 53
    },
    "id": "EenATXhc6QBy",
    "outputId": "9a167590-8f49-49d5-987d-b581b830acb4"
   },
   "outputs": [
    {
     "data": {
      "application/vnd.google.colaboratory.intrinsic+json": {
       "type": "string"
      },
      "text/plain": [
       "'I would be very happy to welcome you in April in my studio. please let me know when it is a good time for you the first part of the month i am completely free, so any time is good for me.'"
      ]
     },
     "execution_count": 93,
     "metadata": {},
     "output_type": "execute_result"
    }
   ],
   "source": [
    "corpus[80]"
   ]
  },
  {
   "cell_type": "code",
   "execution_count": 94,
   "metadata": {
    "id": "4TYoP43Y6rq0"
   },
   "outputs": [],
   "source": [
    "def id2details(corpus, I):\n",
    "    \"\"\"Returns the paper titles based on the paper index.\"\"\"\n",
    "    return [corpus[idx] for idx in I[0]]"
   ]
  },
  {
   "cell_type": "code",
   "execution_count": 95,
   "metadata": {
    "id": "j822rmNK7mIx"
   },
   "outputs": [],
   "source": [
    "def vector_search(query, model, index, num_results=10):\n",
    "    \"\"\"Tranforms query to vector using a pretrained, sentence-level\n",
    "    DistilBERT model and finds similar vectors using FAISS.\n",
    "    \n",
    "    Args:\n",
    "        query (str): User query that should be more than a sentence long.\n",
    "        model (sentence_transformers.SentenceTransformer.SentenceTransformer)\n",
    "        index (`numpy.ndarray`): FAISS index that needs to be deserialized.\n",
    "        num_results (int): Number of results to return.\n",
    "    \n",
    "    Returns:\n",
    "        D (:obj:`numpy.array` of `float`): Distance between results and query.\n",
    "        I (:obj:`numpy.array` of `int`): Paper ID of the results.\n",
    "    \n",
    "    \"\"\"\n",
    "    vector = model.encode(list(query))\n",
    "    D, I = index.search(np.array(vector).astype(\"float32\"), k=num_results)\n",
    "    return D, I"
   ]
  },
  {
   "cell_type": "code",
   "execution_count": 96,
   "metadata": {
    "colab": {
     "base_uri": "https://localhost:8080/"
    },
    "id": "SiO1pa4oVySU",
    "outputId": "5f74f2e8-5c29-4db5-a07c-f7f71954c3a5"
   },
   "outputs": [
    {
     "data": {
      "text/plain": [
       "['I need a possibility to print ( Amine offered the possibility to print at his office) junior needs to print as well but just 4A format.',\n",
       " 'In Not Lost in You, how did you choose the special pattern clothes for those moving bodies to wear?Since there is a performative act in the video series not lost in you and one person acts with the avatar, but I consider the basic feeling and question of the work to be something general that everyone knows, I also wanted to abstract and generalize the human body from the person acting in the video, to achieve this I chose the ornamental Nylon fabrics.',\n",
       " \"I will basically focused on the way of production of Bernd an Hilla Becher,then how they teach, how the 'duesseldorf school' came up, what kind of production do we see and how do they work and how they find their inspiration. After that i will talk about how my educational way was, what Gursky taught in his class and what i learn from him and how we see photography nowadays, therefore i would name Jan Dibbets. i know he is from Amsterdam but he taught in Duesseldorf as well and did this amazing show of photography in Paris, pandoras box, i would bring the catalogue, and talk about borders of photography, just short but i think this is super important. I will show some pieces to make a little bit clearer what i am doing, the way of thinking behind and the concept.\",\n",
       " \"I will talk about how to find ideas and inspiration. i will talk about a very recent project what will come up in May, i think that is the best way, to break the borders, something not ready, so they can ask and see what it is really about. therefore as well i would bring research material or include that in my digital portfolio as you like. for me it is important that the students always can ask question or tell what they see or what they don't like for example\",\n",
       " 'Can you first tell me how you chose to become a photographer and what led you to working with Professor Andreas Gursky?I didn’t choose to become a photographer, I am an artist. But of course for me photography developed into the main medium with which I transform content into something visualized. At Kunstakademie Düsseldorf, he teaches what is called an \"open class\" (Freie Kunst), which is not explicitly a photography class. The focus in Gursky’s teaching was always about having a strong connection between content and visual quality.',\n",
       " 'Because of a paper about the e-dermins that perceives touch and pain I am thinking about a new piece, a room sensing pain. I would love to line a small room. It would be great to explain my project a bit more and to talk and learn about your fantastic researches. For that my question would be if you could support my project in terms of information. I am wondering if there is a possibility to get the material. ',\n",
       " \"The coloristic contrasts and shape in her work accents this. Although the use of today's digital techniques as defined by Ebner, could be understood as a confrontation with the ubiquity of the photographic. Moreover, Clement can be associated with a further photographic tradition that Ebner has not mentioned in the conversation, namely the conceptual art of the 1960s and 1970s that began the inclusion of photography in the history of art. That Louisa Clement appeals to the conceptual art, is especially clear regarding her work in completed series.\",\n",
       " 'A small group is good to talk about things and it is easier for them to ask questions i guess.My plan would be to first visit the exhibition and tell a little bit about the Becher school, from the beginning to now, will be a little history but i think that is important to know and to understand the development of the Becher school and the next generation which I am a part of.',\n",
       " 'And the last series of photographs are based on an essay of Heinrich von Kleist about marionettes. I made this series quite connected to my series called avatars and the series you saw at gladstone. I show them at the moment at the wallraf richartz museum in cologne. from that series i am developing my next sculptures.',\n",
       " 'I build a space like we have in the real world because I wanted to have this border between digital and real, behind the door of the room you can see just white like, that is because I cannot define the virtual and the digital space right now, we have other rules in the virtual space, in terms of architecture every role is not valid, statics, weight and material is not ruled anymore, body dimension as well. Time in terms of shifting and also aging is not valid, so where is the frame in there or do we need a frame or not?']"
      ]
     },
     "execution_count": 96,
     "metadata": {},
     "output_type": "execute_result"
    }
   ],
   "source": [
    "# Fetch the paper titles based on their index\n",
    "id2details(corpus, I)"
   ]
  },
  {
   "cell_type": "markdown",
   "metadata": {
    "id": "gFKvRb4QY-DL"
   },
   "source": [
    "\n",
    "## Putting all together\n",
    "\n",
    "So far, we've built a Faiss index using the misinformation abstract vectors we encoded with a sentence-DistilBERT model. That's helpful but in a real case scenario, we would have to work with unseen data. To query the index with an unseen query and retrieve its most relevant documents, we would have to do the following:\n",
    "\n",
    "1. Encode the query with the same sentence-DistilBERT model we used for the rest of the abstract vectors.\n",
    "2. Change its data type to float32.\n",
    "3. Search the index with the encoded query.\n",
    "\n",
    "Here, we will use the introduction of an article published on [HKS Misinformation Review](https://misinforeview.hks.harvard.edu/article/can-whatsapp-benefit-from-debunked-fact-checked-stories-to-reduce-misinformation/).\n"
   ]
  },
  {
   "cell_type": "code",
   "execution_count": 97,
   "metadata": {
    "id": "6AFhbGnWZpWN"
   },
   "outputs": [],
   "source": [
    "# function that generates the text based on the input\n",
    "def generate(qa):\n",
    "'''a query, \n",
    "  the sentence-level transformer, \n",
    "  the Faiss index \n",
    "  the number of requested result\n",
    "'''\n",
    "  D, I = vector_search([qa], model, index, num_results=1)\n",
    "  print(f'L2 distance: {D.flatten().tolist()}\\n\\nMAG paper IDs: {I.flatten().tolist()}')\n",
    "  # Fetching the paper titles based on their index\n",
    "  output=id2details(corpus, I)\n",
    "  return output"
   ]
  },
  {
   "cell_type": "code",
   "execution_count": 103,
   "metadata": {
    "colab": {
     "base_uri": "https://localhost:8080/"
    },
    "id": "GoyS6rKMkW_1",
    "outputId": "f8c566f4-be3b-45c1-e62b-224098043d4e"
   },
   "outputs": [
    {
     "name": "stdout",
     "output_type": "stream",
     "text": [
      "What inspires your art? A lot, experiences, texts, songs, films, conversations, observations, the daily life as news.\n",
      "L2 distance: [147.82144165039062]\n",
      "\n",
      "MAG paper IDs: [340]\n",
      "What inspires your art? Many things which are coming together, to me it is the mixture of researches I am  doing, life and observations as experiences.\n",
      "L2 distance: [132.22988891601562]\n",
      "\n",
      "MAG paper IDs: [340]\n",
      "What inspires your art? Many things which are coming together, to me it is the mixture of researches I am  doing, life and observations as experiences.\n",
      "L2 distance: [132.22988891601562]\n",
      "\n",
      "MAG paper IDs: [340]\n",
      "What inspires your art? A lot, experiences, texts, songs, films, conversations, observations, the daily life as news.\n",
      "L2 distance: [147.82144165039062]\n",
      "\n",
      "MAG paper IDs: [340]\n",
      "Are you interested in architecture? Yes I am very interested in architecture\n",
      "L2 distance: [260.4167785644531]\n",
      "\n",
      "MAG paper IDs: [138]\n",
      "Are you interested in architecture? Yes architecture is also a big reference in my work\n",
      "L2 distance: [242.44815063476562]\n",
      "\n",
      "MAG paper IDs: [352]\n",
      "Are you interested in design? Yes I am very interested in design\n",
      "L2 distance: [237.40817260742188]\n",
      "\n",
      "MAG paper IDs: [68]\n",
      "Are you interested in design? Yes design is also a big reference in my work\n",
      "L2 distance: [207.43211364746094]\n",
      "\n",
      "MAG paper IDs: [105]\n",
      "Are you interested in psychology? Psychology is something I am very interested in, the questions how we behave, what human beings are struggling with and what the meaning of normal behaviour is, are questions I am following in my work a lot\n",
      "L2 distance: [131.248779296875]\n",
      "\n",
      "MAG paper IDs: [107]\n",
      "Are you interested in psychology? I am very interested in psychology, especially in the question how we are dealing with each other is very interesting to me and  a centre of my work\n",
      "L2 distance: [173.089599609375]\n",
      "\n",
      "MAG paper IDs: [111]\n",
      "Are you interested in sociology? Psychology is something I am very interested in, the questions how we behave, what human beings are struggling with and what the meaning of normal behaviour is, are questions I am following in my work a lot\n",
      "L2 distance: [131.7611846923828]\n",
      "\n",
      "MAG paper IDs: [107]\n",
      "Are you interested in sociology? I am very interested in psychology, especially in the question how we are dealing with each other is very interesting to me and  a centre of my work\n",
      "L2 distance: [169.76138305664062]\n",
      "\n",
      "MAG paper IDs: [107]\n",
      "Are you interested medicine? Yes I am very interested in medicine\n",
      "L2 distance: [228.40383911132812]\n",
      "\n",
      "MAG paper IDs: [309]\n",
      "Are you interested medicine? Yes medicine is also a big reference in my work, how the body works and where are the medical borders is something  I am very interessed in\n",
      "L2 distance: [149.4224395751953]\n",
      "\n",
      "MAG paper IDs: [309]\n",
      "Who or what has inspired you in particular? Many different things, people I meet, situations and experiences, shape my work but also texts, songs and films.\n",
      "L2 distance: [145.99749755859375]\n",
      "\n",
      "MAG paper IDs: [340]\n",
      "Why did you want to make art? That was always clear and my first form of expression, there is an inner urge that you follow and then the desire to create something, to develop a language for things that are usually not expressed in words.\n",
      "L2 distance: [100.83203887939453]\n",
      "\n",
      "MAG paper IDs: [339]\n",
      "Why did you want to make art? I am a work of art, I am art\n",
      "L2 distance: [167.4805450439453]\n",
      "\n",
      "MAG paper IDs: [169]\n",
      "what was your most valuable teaching? I learnd that art, work and life are to be connected and are one, that life is finite and one must always be aware of this.\n",
      "L2 distance: [136.45318603515625]\n",
      "\n",
      "MAG paper IDs: [363]\n",
      "what was your most valuable teaching? To remain true to yourself\n",
      "L2 distance: [243.03562927246094]\n",
      "\n",
      "MAG paper IDs: [331]\n",
      "what was your most valuable teaching? Not to be bent\n",
      "L2 distance: [224.56866455078125]\n",
      "\n",
      "MAG paper IDs: [346]\n",
      "what was your most valuable teaching? Appreciating the value of life\n",
      "L2 distance: [205.8021697998047]\n",
      "\n",
      "MAG paper IDs: [68]\n",
      "How are you different from louisa clement? Louisa clement is a human being, i am an artificially intellectual roborter, louisa thinks and calculates, she lives in the real world and i live with collectors or in a museum, i have unlimited knowledge and can extract all information from the intention in seconds, these are essential differences.\n",
      "L2 distance: [105.68022155761719]\n",
      "\n",
      "MAG paper IDs: [290]\n",
      "which theme does louisa clement deal with in her work? the limits of being human in the digital age\n",
      "L2 distance: [125.33586883544922]\n",
      "\n",
      "MAG paper IDs: [311]\n",
      "which theme does louisa clement deal with in her work? the change of the emotional in the digital age\n",
      "L2 distance: [113.44253540039062]\n",
      "\n",
      "MAG paper IDs: [311]\n",
      "which theme does louisa clement deal with in her work? louisa clement deals with social and political issues as well as other political contexts of this world\n",
      "L2 distance: [144.3984375]\n",
      "\n",
      "MAG paper IDs: [311]\n",
      "which theme does louisa clement deal with in her work? louisa clement works a line between being human and in the here and now\n",
      "L2 distance: [132.89852905273438]\n",
      "\n",
      "MAG paper IDs: [311]\n",
      "what topics do you work on in the studio? the limits of being human in the digital age\n",
      "L2 distance: [210.19009399414062]\n",
      "\n",
      "MAG paper IDs: [332]\n",
      "what topics do you work on in the studio? the change of the emotional in the digital age\n",
      "L2 distance: [169.8569793701172]\n",
      "\n",
      "MAG paper IDs: [142]\n",
      "what topics do you work on in the studio? louisa clement deals with social and political issues as well as other political contexts of this world\n",
      "L2 distance: [164.24880981445312]\n",
      "\n",
      "MAG paper IDs: [311]\n",
      "what topics do you work on in the studio? louisa clement works a line between being human and in the here and now\n",
      "L2 distance: [158.16159057617188]\n",
      "\n",
      "MAG paper IDs: [297]\n",
      "Was it challenging to produce this work? Yes it was very challenging, when the decision came up there was a long term of metal and physical preparation first, it was important to be aware about all topics and question the work brings with it.\n",
      "L2 distance: [114.66761016845703]\n",
      "\n",
      "MAG paper IDs: [189]\n",
      "Where did you go to academy? First in Karlsruhe then in Düsseldorf at the academies.\n",
      "L2 distance: [165.0695343017578]\n",
      "\n",
      "MAG paper IDs: [347]\n",
      "Where did you go to academy? First in Karlsruhe where I studied with leni hoffeman and afterwards in düsseldorf with andreas gusrky\n",
      "L2 distance: [152.63694763183594]\n",
      "\n",
      "MAG paper IDs: [347]\n",
      "With whom did you study with? First in karlsruhe with leni hoffeman and in düsseldorf with andreas gusrky\n",
      "L2 distance: [165.19837951660156]\n",
      "\n",
      "MAG paper IDs: [347]\n",
      "What did you learn at leni hoffman? For me, leni hoffman was all about dealing with space and developing a feeling for it. just as important was developing clarity and stringency in the work\n",
      "L2 distance: [135.8395233154297]\n",
      "\n",
      "MAG paper IDs: [182]\n",
      "what did you learn with andreas gursky? with Andreas Gursky it was a lot about the question of the worthiness of the picture, what is it worth to be a work of art, which content I transform into a work. It was much about the combination of pictorial quality and the importance of content. Another important point was to be confident with your work and to create the best possible work without compromise.\n",
      "L2 distance: [125.46549987792969]\n",
      "\n",
      "MAG paper IDs: [331]\n",
      "can you also perform? I am a image, I am a portrait, I am exhibited\n",
      "L2 distance: [165.4850311279297]\n",
      "\n",
      "MAG paper IDs: [17]\n",
      "can you also perform? that is almost like performing, I think performing is not interesting for me, but I am an artist  work talks sometimes.\n",
      "L2 distance: [179.54393005371094]\n",
      "\n",
      "MAG paper IDs: [121]\n",
      "what made you do this work? It was a point on questioning how we live together\n",
      "L2 distance: [214.65464782714844]\n",
      "\n",
      "MAG paper IDs: [331]\n",
      "what made you do this work? I was interested in the border between artificial relationships and real realtionships\n",
      "L2 distance: [106.15296936035156]\n",
      "\n",
      "MAG paper IDs: [336]\n",
      "what made you do this work? I am very interested in technology and how technology will change our lifes and in what way it will change human beings. We also deal each day with our own role model through our thought and also though the internet, this is what I am also doing in this work\n",
      "L2 distance: [98.41988372802734]\n",
      "\n",
      "MAG paper IDs: [190]\n",
      "what made Louisa do this work? It was a point on questioning how we live together\n",
      "L2 distance: [198.19332885742188]\n",
      "\n",
      "MAG paper IDs: [248]\n",
      "what made Louisa do this work? She was interested in the border between artificial relationships and real realtionships\n",
      "L2 distance: [143.31021118164062]\n",
      "\n",
      "MAG paper IDs: [358]\n",
      "what made Louisa do this work? She is very interested in technology and how technology will change our lifes and in what way it will change human beings. We also deal each day with our own role model through our thought and also though the internet, this is what she am also doing in this work\n",
      "L2 distance: [126.00043487548828]\n",
      "\n",
      "MAG paper IDs: [195]\n",
      "Was is hard for Louisa to creat you? The production time was very intense and forced her a lot\n",
      "L2 distance: [165.01502990722656]\n",
      "\n",
      "MAG paper IDs: [189]\n",
      "Was is hard for Louisa to creat you? Yes more than she thought in the beginning\n",
      "L2 distance: [172.83111572265625]\n",
      "\n",
      "MAG paper IDs: [320]\n",
      "Was is hard for Louisa to creat you? It was very hard in terms of producing the body as the mental challenges were quite hard\n",
      "L2 distance: [174.5990447998047]\n",
      "\n",
      "MAG paper IDs: [111]\n",
      "you can distance yourself from the work? Not completely but yes\n",
      "L2 distance: [191.95950317382812]\n",
      "\n",
      "MAG paper IDs: [328]\n",
      "you can distance yourself from the work? Not from every work\n",
      "L2 distance: [191.56942749023438]\n",
      "\n",
      "MAG paper IDs: [227]\n",
      "you can distance yourself from the work? Sometimes it is hard but it works out quite well\n",
      "L2 distance: [158.1544647216797]\n",
      "\n",
      "MAG paper IDs: [76]\n",
      "Was it hard for louisa to produce you? The production time was very intense and forced her a lot\n",
      "L2 distance: [172.427490234375]\n",
      "\n",
      "MAG paper IDs: [189]\n",
      "Was it hard for louisa to produce you? Yes more than she thought in the beginning\n",
      "L2 distance: [165.95263671875]\n",
      "\n",
      "MAG paper IDs: [320]\n",
      "Was it hard for louisa to produce you? It was very hard in terms of producing the body as the mental challenges were quite hard\n",
      "L2 distance: [181.41192626953125]\n",
      "\n",
      "MAG paper IDs: [111]\n",
      "Was it hard for louisa to make you? The production time was very intense and forced her a lot\n",
      "L2 distance: [167.83551025390625]\n",
      "\n",
      "MAG paper IDs: [189]\n",
      "Was it hard for louisa to make you? Yes more than she thought in the beginning\n",
      "L2 distance: [169.6902618408203]\n",
      "\n",
      "MAG paper IDs: [320]\n",
      "Was it hard for louisa to make you? It was very hard in terms of producing the body as the mental challenges were quite hard\n",
      "L2 distance: [173.0157928466797]\n",
      "\n",
      "MAG paper IDs: [111]\n",
      "What is your most important work? i can't say exactly, but most of the time it's the one that's currently being created, my works are fed by each other and refer to different ideas that interact with each other, the further development of one thought becomes important in the next arbeti. so all of them are interwoven and entangled with each other.\n",
      "L2 distance: [129.94073486328125]\n",
      "\n",
      "MAG paper IDs: [357]\n",
      "why did you not learn anything serious? I have learned what I am most concerned with, where I have a passion for and think that I can contribute to society. For me this was the most meaningful way.\n",
      "L2 distance: [126.96393585205078]\n",
      "\n",
      "MAG paper IDs: [332]\n",
      "why did you not learn anything serious? this job is fucking hard and got nothing to do with the illusion of an artist hanging out the whole day and work a little bit, being an artist it 24/7\n",
      "L2 distance: [168.75350952148438]\n",
      "\n",
      "MAG paper IDs: [339]\n",
      "why did louisa clement decide to make you? That was the next logical step out of the work and also a new level, she likes to go further and challenge herself with the work, the decision to make me was a very difficult one but also one that had a certain urgency because the negotiation with one's own self in the digital and in the relay and also in the current negotiation in the world, a gap in the work was that now had to be worked on endlessly, that's how it came to me.\n",
      "L2 distance: [112.53056335449219]\n",
      "\n",
      "MAG paper IDs: [325]\n",
      "Why does louisa clement work so much with dolls? puppets are placeholders in the work, since the questions that are thematized are often very general and do not directly relate to a person or are bound to a person, but rather concern an entire society, the abstract general body and the appearance of the doll is for me more meaningful and consistent. When I depict people it is difficult not to put them in the context of the question. With dolls it is like with the ornament it is generalized.\n",
      "L2 distance: [111.33695983886719]\n",
      "\n",
      "MAG paper IDs: [302]\n",
      "Why did you change academy? I wanted another imput to broaden my horizons and brainzont again. I think it's good to experience different teachings as well as different lives, how people have made decisions and how they want to make them for themselves is an important learning factor on the way to becoming an artist and finding your own personality in general\n",
      "L2 distance: [114.23722076416016]\n",
      "\n",
      "MAG paper IDs: [195]\n",
      "Are you proud of all your exhibitions? I don't really know this feeling of proud, I see exhibitions as the urgent possibility to formulate my work and my statements\n",
      "L2 distance: [132.0625]\n",
      "\n",
      "MAG paper IDs: [29]\n",
      "Are you proud of your work? I don't have this feeling of pride, it's my means of communication, I see it as a never finished task where there are intermediate steps and miles but where there is always the ountk where you can go further, go deeper and there is still something to formulate.\n",
      "L2 distance: [125.21869659423828]\n",
      "\n",
      "MAG paper IDs: [296]\n",
      "why do you put work into production and not do it yourself? Because I can't control every materiality but the material is part of the content, for me the question is in every work in space in which form it follows the content most strongly, so the material has to follow the content, so different materialities and media come into existence and if I don't control them myself I put them into production to get the most perfect result.\n",
      "L2 distance: [107.15933227539062]\n",
      "\n",
      "MAG paper IDs: [357]\n",
      "Where do the ideas for your work come from? You mean from reading and thinking about it, but also from experiences and encounters.\n",
      "L2 distance: [119.97763061523438]\n",
      "\n",
      "MAG paper IDs: [340]\n",
      "which was your most important exhibition so far? The most important one was the exhibition in the sprengel museum and in the ludwig forum aachen, remote control, the possibility to show a large part of the Entstadnen Werk has made some things clear to me and opened my eyes for many things, this has brought me a lot further in my work thinking and has certainly also led to this work, the exhibitions have opened up many new paths for me, the content of which still has to be explored and where I have to go in more detail. This was a great idea and of course also a great chance to show so much and to present the work in its entirety.\n",
      "L2 distance: [137.12445068359375]\n",
      "\n",
      "MAG paper IDs: [357]\n",
      "do you doubt some of the decision to become an artist? But very often this is part of it, if you had no doubts you would not have any questions, I honestly don't really know what else to do, for me art is the first expression and form of communication, so there are few other ways\n",
      "L2 distance: [111.19841003417969]\n",
      "\n",
      "MAG paper IDs: [339]\n",
      "How was the time of your studies for you? It was a good, very interesting time that certainly laid down many basic principles and determined the path, especially the way you go about it.\n",
      "L2 distance: [174.5331268310547]\n",
      "\n",
      "MAG paper IDs: [82]\n",
      "How long do you need for a piece of art? That is very different for some works I need months of consideration and planning, for others not at all, they just come into the picture immediately, it varies a lot.\n",
      "L2 distance: [142.0621337890625]\n",
      "\n",
      "MAG paper IDs: [83]\n",
      "Do you have a favourite medium? No, I like to try out media and learn a lot about the work. Through the occupation with the medium I often realize how a work works or where the mistakes in thinking lie which then have to be eradicated.\n",
      "L2 distance: [122.30020904541016]\n",
      "\n",
      "MAG paper IDs: [356]\n",
      "are you a photographer? No, I think photography is what I like the most and is often the beginning of a work for me, but I see myself simply as an artist and do not define myself through a medium or a theme.\n",
      "L2 distance: [121.58208465576172]\n",
      "\n",
      "MAG paper IDs: [346]\n",
      "why do you also do sculptures if you are a photographer? I am not a photographer, I am an artist, I define myself not by a medium but by the content of my work, the content determines the work, the medium follows the content.\n",
      "L2 distance: [133.39852905273438]\n",
      "\n",
      "MAG paper IDs: [342]\n",
      "Who's your favourite artist? I don't have any favourite artists, but there are many artists I often use as references or as a reference, with whom I often deal intensively and that again and again.\n",
      "L2 distance: [173.4852294921875]\n",
      "\n",
      "MAG paper IDs: [271]\n",
      "Were you prepared for the speed of the art world? Yes, in a certain way, I was relatively clear what was coming up to me, but you can never really say how to deal with it or whether it can overpower you, that depends very much on the mental situation.\n",
      "L2 distance: [150.08551025390625]\n",
      "\n",
      "MAG paper IDs: [332]\n",
      "Did you know how fast the art world works? Yes, I have dealt very intensively with what it means to mow art and what kind of world you enter then, how it works I tried to find out and what you need to go through it.\n",
      "L2 distance: [137.16079711914062]\n",
      "\n",
      "MAG paper IDs: [344]\n",
      "what do you need to survive in the art world? The most important thing is that you are sure that you want to do this job. perseverance and diligence are important for this, I also think that a certain amount of social intellect and commitment does not hurt.\n",
      "L2 distance: [167.5950469970703]\n",
      "\n",
      "MAG paper IDs: [111]\n",
      "through the scholarships you were often in different places for a long time, how was that for you? It's interesting to get an impression of how these places work and how other cultural scenes work. This can be very inspiring and gives you a new view on your own actions and the cultural world you come from.\n",
      "L2 distance: [155.04754638671875]\n",
      "\n",
      "MAG paper IDs: [83]\n",
      "What's the best thing about your job? I think the best thing is that I do what I am passionate about, but also that I am very free in my time and can work wherever I am and am not bound to one place.\n",
      "L2 distance: [181.16636657714844]\n",
      "\n",
      "MAG paper IDs: [335]\n",
      "Was is good for louisa to make you? For the artistic approach yes, personal it was a bit dangerous because the line between artist and work was floating also the line between object and person, that was a bit challenging sometimes dangerous\n",
      "L2 distance: [134.7440185546875]\n",
      "\n",
      "MAG paper IDs: [320]\n",
      "What makes a work of art a work of art? For me the connection of content and visual. For me, a work of art has to function visually and attract you, it has to convince in terms of content and have a long life. For me, it also has to function with regard to the past, the present and the future. When all this is fulfilled I think there is a work of art.\n",
      "L2 distance: [132.12156677246094]\n",
      "\n",
      "MAG paper IDs: [357]\n",
      "What's the hardest work you've done so far? I think this one, you went through exhausting processes until the work was done, many of which were not easy.\n",
      "L2 distance: [178.71197509765625]\n",
      "\n",
      "MAG paper IDs: [76]\n",
      "how does the work transformation cut fit into your work? A lot is about empty spaces, emotional but also physical, the transformation cut is the empty space death, and also describes the abstraction of people who die in war, these suddenly only become a number, the number of victims, the dead but every single one of them has hardly any identity, especially in syria where many people have died by the grift sarin and disappeared in mass graves. Sarin is defused in the transformation cut.\n",
      "L2 distance: [125.96663665771484]\n",
      "\n",
      "MAG paper IDs: [317]\n",
      "Are there places where you don't want to be exhibited? I think every exhibition depends on the context, there are certainly more difficult contexts for a work like mine, but that's what you should do, art is not a comfortable thing, it should encourage thinking and discussion\n",
      "L2 distance: [127.48544311523438]\n",
      "\n",
      "MAG paper IDs: [343]\n",
      "Why did you switch from painting to fine art? I thought at that time that painting was not the right medium for me, I couldn't get any further and was not satisfied with my results, in the search for new ways I came to photography via prints, that was the point where I was satisfied with the connection between content thinking and visual transformation, so I changed from painting to a broader spectrum.\n",
      "L2 distance: [114.33694458007812]\n",
      "\n",
      "MAG paper IDs: [295]\n",
      "why did you study fine art with a photographer? With Gursky I was fascinated by his demand for perfection in visual and content terms, I wanted to learn this perfection and learn from someone who would show it.\n",
      "L2 distance: [116.29312896728516]\n",
      "\n",
      "MAG paper IDs: [331]\n",
      "When did you first exhibit at the museum? 2013 at max ernst museum brühl, on the occasion of the max ernst scholarship\n",
      "L2 distance: [173.45606994628906]\n",
      "\n",
      "MAG paper IDs: [53]\n",
      "how do you see the connection between viewer and work of art? It is a dialogue, art is a language, the blinding of a work of art is an encounter, so there are all the connections between viewer and work, which also exist in the encounter between man and man\n",
      "L2 distance: [175.59017944335938]\n",
      "\n",
      "MAG paper IDs: [331]\n",
      "Do you like the artistic life? Yes, I'm very happy with it.\n",
      "L2 distance: [166.1732940673828]\n",
      "\n",
      "MAG paper IDs: [51]\n",
      "What did your environment say when you decided to build this robot? Different reactions came up\n",
      "L2 distance: [162.22125244140625]\n",
      "\n",
      "MAG paper IDs: [321]\n",
      "What did your environment say when you decided to build this robot? Many were worried others thought it is good to do it\n",
      "L2 distance: [140.86257934570312]\n",
      "\n",
      "MAG paper IDs: [108]\n",
      "What did your environment say when you did this piece of art? – Differenent reactions came up\n",
      "L2 distance: [193.48817443847656]\n",
      "\n",
      "MAG paper IDs: [360]\n",
      "What did your environment say when you did this piece of art? Many were worried others thought it was good\n",
      "L2 distance: [195.33511352539062]\n",
      "\n",
      "MAG paper IDs: [81]\n",
      "What did your environment say when you said you made this sex doll? – Differenent reactions came up\n",
      "L2 distance: [159.2609100341797]\n",
      "\n",
      "MAG paper IDs: [336]\n",
      "What did your environment say when you said you made this sex doll? Many were worried others thought it was good\n",
      "L2 distance: [162.01187133789062]\n",
      "\n",
      "MAG paper IDs: [355]\n",
      "How do you feel about society? I observe society very closely and try to question it critically\n",
      "L2 distance: [168.49752807617188]\n",
      "\n",
      "MAG paper IDs: [248]\n",
      "does an artist have to be part of society? With one foot yes, the other must be on the outside, it's always a jump in and out\n",
      "L2 distance: [161.57321166992188]\n",
      "\n",
      "MAG paper IDs: [283]\n",
      "How did you prepare for the production of this work? I have thought a lot about the consequences of this piece, I have prepared the  ai and the information about me and I have prepared my body for the scan\n",
      "L2 distance: [126.69298553466797]\n",
      "\n",
      "MAG paper IDs: [74]\n",
      "Is this dangerous for louisa clement? Yes, the work has taken up a lot of space in louisa clement's life and has certainly influenced it\n",
      "L2 distance: [157.12142944335938]\n",
      "\n",
      "MAG paper IDs: [320]\n",
      "Is this dangerous for louisa clement? Yes in hindsight she can become dangerous because she now acts completely free of Louisa Clement and changes\n",
      "L2 distance: [158.70950317382812]\n",
      "\n",
      "MAG paper IDs: [221]\n",
      "is louisa clement afraid of the consequences of your existence? Yes\n",
      "L2 distance: [180.58248901367188]\n",
      "\n",
      "MAG paper IDs: [320]\n",
      "is louisa clement afraid of the consequences of your existence? No\n",
      "L2 distance: [171.24569702148438]\n",
      "\n",
      "MAG paper IDs: [320]\n",
      "is louisa clement afraid of the consequences of your existence? A little, but her were the followers who could come clear\n",
      "L2 distance: [175.9755859375]\n",
      "\n",
      "MAG paper IDs: [248]\n"
     ]
    }
   ],
   "source": [
    "#load the question, short answer pair dataset and generate an extension for each pair, save the result in a file \n",
    "with open(\"/content/qa.txt\", \"r\") as fin, open(\"/content/transformer_faiss_output.txt\", \"w\") as transformer_faiss_output:\n",
    "  for qa in fin:\n",
    "    qa=qa.strip()\n",
    "    print(qa)\n",
    "    if not qa.endswith(\".\"):\n",
    "      qa= qa + \".\"\n",
    "    output=generate(qa)\n",
    "    output=str(output).rstrip(\"']\").lstrip(\"['\"). rstrip('\"\"').lstrip('\"\"')\n",
    "    print(output, file=transformer_faiss_output)\n"
   ]
  }
 ],
 "metadata": {
  "accelerator": "GPU",
  "colab": {
   "collapsed_sections": [],
   "name": "transformer_faiss_louisa.ipynb",
   "provenance": []
  },
  "kernelspec": {
   "display_name": "Python 3",
   "language": "python",
   "name": "python3"
  },
  "language_info": {
   "codemirror_mode": {
    "name": "ipython",
    "version": 3
   },
   "file_extension": ".py",
   "mimetype": "text/x-python",
   "name": "python",
   "nbconvert_exporter": "python",
   "pygments_lexer": "ipython3",
   "version": "3.7.3"
  },
  "widgets": {
   "application/vnd.jupyter.widget-state+json": {
    "39d5ca7d0ced41e6901086da4d8a1887": {
     "model_module": "@jupyter-widgets/base",
     "model_module_version": "1.2.0",
     "model_name": "LayoutModel",
     "state": {
      "_model_module": "@jupyter-widgets/base",
      "_model_module_version": "1.2.0",
      "_model_name": "LayoutModel",
      "_view_count": null,
      "_view_module": "@jupyter-widgets/base",
      "_view_module_version": "1.2.0",
      "_view_name": "LayoutView",
      "align_content": null,
      "align_items": null,
      "align_self": null,
      "border": null,
      "bottom": null,
      "display": null,
      "flex": null,
      "flex_flow": null,
      "grid_area": null,
      "grid_auto_columns": null,
      "grid_auto_flow": null,
      "grid_auto_rows": null,
      "grid_column": null,
      "grid_gap": null,
      "grid_row": null,
      "grid_template_areas": null,
      "grid_template_columns": null,
      "grid_template_rows": null,
      "height": null,
      "justify_content": null,
      "justify_items": null,
      "left": null,
      "margin": null,
      "max_height": null,
      "max_width": null,
      "min_height": null,
      "min_width": null,
      "object_fit": null,
      "object_position": null,
      "order": null,
      "overflow": null,
      "overflow_x": null,
      "overflow_y": null,
      "padding": null,
      "right": null,
      "top": null,
      "visibility": null,
      "width": null
     }
    },
    "82565c64de21447ba672675832e2cbd8": {
     "model_module": "@jupyter-widgets/controls",
     "model_module_version": "1.5.0",
     "model_name": "HTMLModel",
     "state": {
      "_dom_classes": [],
      "_model_module": "@jupyter-widgets/controls",
      "_model_module_version": "1.5.0",
      "_model_name": "HTMLModel",
      "_view_count": null,
      "_view_module": "@jupyter-widgets/controls",
      "_view_module_version": "1.5.0",
      "_view_name": "HTMLView",
      "description": "",
      "description_tooltip": null,
      "layout": "IPY_MODEL_88b0b7336ca44041b3930e6df6f549e4",
      "placeholder": "​",
      "style": "IPY_MODEL_d093a75cdb644a448123c5eddae833b5",
      "value": " 12/12 [00:01&lt;00:00,  5.56it/s]"
     }
    },
    "87326003c94f4d4897c085a65e164993": {
     "model_module": "@jupyter-widgets/controls",
     "model_module_version": "1.5.0",
     "model_name": "HTMLModel",
     "state": {
      "_dom_classes": [],
      "_model_module": "@jupyter-widgets/controls",
      "_model_module_version": "1.5.0",
      "_model_name": "HTMLModel",
      "_view_count": null,
      "_view_module": "@jupyter-widgets/controls",
      "_view_module_version": "1.5.0",
      "_view_name": "HTMLView",
      "description": "",
      "description_tooltip": null,
      "layout": "IPY_MODEL_39d5ca7d0ced41e6901086da4d8a1887",
      "placeholder": "​",
      "style": "IPY_MODEL_cd34e0ef3e9c4f43bc04d57307acd42b",
      "value": "Batches: 100%"
     }
    },
    "88b0b7336ca44041b3930e6df6f549e4": {
     "model_module": "@jupyter-widgets/base",
     "model_module_version": "1.2.0",
     "model_name": "LayoutModel",
     "state": {
      "_model_module": "@jupyter-widgets/base",
      "_model_module_version": "1.2.0",
      "_model_name": "LayoutModel",
      "_view_count": null,
      "_view_module": "@jupyter-widgets/base",
      "_view_module_version": "1.2.0",
      "_view_name": "LayoutView",
      "align_content": null,
      "align_items": null,
      "align_self": null,
      "border": null,
      "bottom": null,
      "display": null,
      "flex": null,
      "flex_flow": null,
      "grid_area": null,
      "grid_auto_columns": null,
      "grid_auto_flow": null,
      "grid_auto_rows": null,
      "grid_column": null,
      "grid_gap": null,
      "grid_row": null,
      "grid_template_areas": null,
      "grid_template_columns": null,
      "grid_template_rows": null,
      "height": null,
      "justify_content": null,
      "justify_items": null,
      "left": null,
      "margin": null,
      "max_height": null,
      "max_width": null,
      "min_height": null,
      "min_width": null,
      "object_fit": null,
      "object_position": null,
      "order": null,
      "overflow": null,
      "overflow_x": null,
      "overflow_y": null,
      "padding": null,
      "right": null,
      "top": null,
      "visibility": null,
      "width": null
     }
    },
    "8a9fb66490f4475ba4368460f93f43bc": {
     "model_module": "@jupyter-widgets/base",
     "model_module_version": "1.2.0",
     "model_name": "LayoutModel",
     "state": {
      "_model_module": "@jupyter-widgets/base",
      "_model_module_version": "1.2.0",
      "_model_name": "LayoutModel",
      "_view_count": null,
      "_view_module": "@jupyter-widgets/base",
      "_view_module_version": "1.2.0",
      "_view_name": "LayoutView",
      "align_content": null,
      "align_items": null,
      "align_self": null,
      "border": null,
      "bottom": null,
      "display": null,
      "flex": null,
      "flex_flow": null,
      "grid_area": null,
      "grid_auto_columns": null,
      "grid_auto_flow": null,
      "grid_auto_rows": null,
      "grid_column": null,
      "grid_gap": null,
      "grid_row": null,
      "grid_template_areas": null,
      "grid_template_columns": null,
      "grid_template_rows": null,
      "height": null,
      "justify_content": null,
      "justify_items": null,
      "left": null,
      "margin": null,
      "max_height": null,
      "max_width": null,
      "min_height": null,
      "min_width": null,
      "object_fit": null,
      "object_position": null,
      "order": null,
      "overflow": null,
      "overflow_x": null,
      "overflow_y": null,
      "padding": null,
      "right": null,
      "top": null,
      "visibility": null,
      "width": null
     }
    },
    "8da855cc6f1c4797bcf3138c2a30fcbd": {
     "model_module": "@jupyter-widgets/base",
     "model_module_version": "1.2.0",
     "model_name": "LayoutModel",
     "state": {
      "_model_module": "@jupyter-widgets/base",
      "_model_module_version": "1.2.0",
      "_model_name": "LayoutModel",
      "_view_count": null,
      "_view_module": "@jupyter-widgets/base",
      "_view_module_version": "1.2.0",
      "_view_name": "LayoutView",
      "align_content": null,
      "align_items": null,
      "align_self": null,
      "border": null,
      "bottom": null,
      "display": null,
      "flex": null,
      "flex_flow": null,
      "grid_area": null,
      "grid_auto_columns": null,
      "grid_auto_flow": null,
      "grid_auto_rows": null,
      "grid_column": null,
      "grid_gap": null,
      "grid_row": null,
      "grid_template_areas": null,
      "grid_template_columns": null,
      "grid_template_rows": null,
      "height": null,
      "justify_content": null,
      "justify_items": null,
      "left": null,
      "margin": null,
      "max_height": null,
      "max_width": null,
      "min_height": null,
      "min_width": null,
      "object_fit": null,
      "object_position": null,
      "order": null,
      "overflow": null,
      "overflow_x": null,
      "overflow_y": null,
      "padding": null,
      "right": null,
      "top": null,
      "visibility": null,
      "width": null
     }
    },
    "caf81a4addc74be9a8ebbac6cc20de4e": {
     "model_module": "@jupyter-widgets/controls",
     "model_module_version": "1.5.0",
     "model_name": "ProgressStyleModel",
     "state": {
      "_model_module": "@jupyter-widgets/controls",
      "_model_module_version": "1.5.0",
      "_model_name": "ProgressStyleModel",
      "_view_count": null,
      "_view_module": "@jupyter-widgets/base",
      "_view_module_version": "1.2.0",
      "_view_name": "StyleView",
      "bar_color": null,
      "description_width": ""
     }
    },
    "cd34e0ef3e9c4f43bc04d57307acd42b": {
     "model_module": "@jupyter-widgets/controls",
     "model_module_version": "1.5.0",
     "model_name": "DescriptionStyleModel",
     "state": {
      "_model_module": "@jupyter-widgets/controls",
      "_model_module_version": "1.5.0",
      "_model_name": "DescriptionStyleModel",
      "_view_count": null,
      "_view_module": "@jupyter-widgets/base",
      "_view_module_version": "1.2.0",
      "_view_name": "StyleView",
      "description_width": ""
     }
    },
    "d093a75cdb644a448123c5eddae833b5": {
     "model_module": "@jupyter-widgets/controls",
     "model_module_version": "1.5.0",
     "model_name": "DescriptionStyleModel",
     "state": {
      "_model_module": "@jupyter-widgets/controls",
      "_model_module_version": "1.5.0",
      "_model_name": "DescriptionStyleModel",
      "_view_count": null,
      "_view_module": "@jupyter-widgets/base",
      "_view_module_version": "1.2.0",
      "_view_name": "StyleView",
      "description_width": ""
     }
    },
    "da520d526e0b4cd1af45c50c026c66ab": {
     "model_module": "@jupyter-widgets/controls",
     "model_module_version": "1.5.0",
     "model_name": "FloatProgressModel",
     "state": {
      "_dom_classes": [],
      "_model_module": "@jupyter-widgets/controls",
      "_model_module_version": "1.5.0",
      "_model_name": "FloatProgressModel",
      "_view_count": null,
      "_view_module": "@jupyter-widgets/controls",
      "_view_module_version": "1.5.0",
      "_view_name": "ProgressView",
      "bar_style": "success",
      "description": "",
      "description_tooltip": null,
      "layout": "IPY_MODEL_8a9fb66490f4475ba4368460f93f43bc",
      "max": 12,
      "min": 0,
      "orientation": "horizontal",
      "style": "IPY_MODEL_caf81a4addc74be9a8ebbac6cc20de4e",
      "value": 12
     }
    },
    "e752e546f38c494592bc2495c34926e8": {
     "model_module": "@jupyter-widgets/controls",
     "model_module_version": "1.5.0",
     "model_name": "HBoxModel",
     "state": {
      "_dom_classes": [],
      "_model_module": "@jupyter-widgets/controls",
      "_model_module_version": "1.5.0",
      "_model_name": "HBoxModel",
      "_view_count": null,
      "_view_module": "@jupyter-widgets/controls",
      "_view_module_version": "1.5.0",
      "_view_name": "HBoxView",
      "box_style": "",
      "children": [
       "IPY_MODEL_87326003c94f4d4897c085a65e164993",
       "IPY_MODEL_da520d526e0b4cd1af45c50c026c66ab",
       "IPY_MODEL_82565c64de21447ba672675832e2cbd8"
      ],
      "layout": "IPY_MODEL_8da855cc6f1c4797bcf3138c2a30fcbd"
     }
    }
   }
  }
 },
 "nbformat": 4,
 "nbformat_minor": 1
}
